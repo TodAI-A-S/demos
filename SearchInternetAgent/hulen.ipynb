{
 "cells": [
  {
   "cell_type": "code",
   "execution_count": 2,
   "metadata": {
    "collapsed": true,
    "ExecuteTime": {
     "end_time": "2023-06-28T20:10:16.246451700Z",
     "start_time": "2023-06-28T20:10:09.492888300Z"
    }
   },
   "outputs": [
    {
     "name": "stderr",
     "output_type": "stream",
     "text": [
      "C:\\Users\\natas\\AppData\\Local\\Programs\\Python\\Python310\\lib\\site-packages\\pinecone\\index.py:4: TqdmExperimentalWarning: Using `tqdm.autonotebook.tqdm` in notebook mode. Use `tqdm.tqdm` instead to force console mode (e.g. in jupyter console)\n",
      "  from tqdm.autonotebook import tqdm\n"
     ]
    }
   ],
   "source": [
    "from langchain.agents import load_tools\n",
    "from langchain import OpenAI\n",
    "from langchain.embeddings.openai import OpenAIEmbeddings\n",
    "import pinecone\n",
    "from langchain.vectorstores import Chroma\n",
    "import pandas as pd"
   ]
  },
  {
   "cell_type": "code",
   "execution_count": 3,
   "outputs": [],
   "source": [
    "import os\n"
   ],
   "metadata": {
    "collapsed": false,
    "ExecuteTime": {
     "end_time": "2023-06-28T20:10:16.270760500Z",
     "start_time": "2023-06-28T20:10:16.229598800Z"
    }
   }
  },
  {
   "cell_type": "code",
   "execution_count": 3,
   "outputs": [],
   "source": [],
   "metadata": {
    "collapsed": false,
    "ExecuteTime": {
     "end_time": "2023-06-28T20:10:16.294990900Z",
     "start_time": "2023-06-28T20:10:16.270760500Z"
    }
   }
  },
  {
   "cell_type": "code",
   "execution_count": 4,
   "outputs": [],
   "source": [
    "articles = [\n",
    "    {\n",
    "        \"title\": \"Vedtag ny lovgivning, før der overinvesteres i teknologi med etiske problemer skrevet af Thomas Telving\",\n",
    "        \"id\": \"1\",\n",
    "        \"date\": \"14. juni 2022\",\n",
    "        \"context\": \"Artiklen opfordrer til juridisk regulering af 'digitale mennesker' - en teknologi, han mener kan være manipulerende og misbruge persondata. Han trækker paralleller til reguleringen af online kasinoer og mener, at uden regulering vil etiske virksomheder blive overhalet af dem, der bruger teknologi uden etiske overvejelser. Han advarer om, at den teknologiske udvikling er hurtig, og at der er behov for hurtig lovgivning for at beskytte både forbrugere og virksomheder.\"\n",
    "    },\n",
    "    {\n",
    "        \"title\": \"Lovgivning om kunstig intelligens kræver mere fantasi, end EU kan præstere skrevet af Dan Rose, Stifter af TodAI\",\n",
    "        \"id\": \"2\",\n",
    "        \"date\": \"11/07/2022 KL. 10:30\",\n",
    "        \"context\": \"Artiklen er en kommentar fra Dan Rose, der diskuterer EU's foreslåede lovgivning om kunstig intelligens (AI). Her er de centrale punkter: ...\"\n",
    "    },\n",
    "    {\n",
    "        \"title\": \"Vidensdeling er det bedste våben mod cyberkriminelle skrevet af Morten Gransøe, Country Manager, Check Point Software Technologies Danmark\",\n",
    "        \"id\": \"3\",\n",
    "        \"date\": \"28/06/2023 KL. 09:15\",\n",
    "        \"context\": \"Morten Gransøe opfordrer i et debatindlæg til bedre vidensdeling for at bekæmpe cyberkriminalitet. Han argumenterer for, at danske virksomheder, organisationer og myndigheder skal forbedre deres informationsudveksling omkring cybersikkerhed. ...\"\n",
    "    }\n",
    "]"
   ],
   "metadata": {
    "collapsed": false,
    "ExecuteTime": {
     "end_time": "2023-06-28T20:10:16.294990900Z",
     "start_time": "2023-06-28T20:10:16.270760500Z"
    }
   }
  },
  {
   "cell_type": "code",
   "execution_count": 5,
   "outputs": [
    {
     "data": {
      "text/plain": "                                               title id                  date  \\\n0  Vedtag ny lovgivning, før der overinvesteres i...  1         14. juni 2022   \n1  Lovgivning om kunstig intelligens kræver mere ...  2  11/07/2022 KL. 10:30   \n2  Vidensdeling er det bedste våben mod cyberkrim...  3  28/06/2023 KL. 09:15   \n\n                                             context  \n0  Artiklen opfordrer til juridisk regulering af ...  \n1  Artiklen er en kommentar fra Dan Rose, der dis...  \n2  Morten Gransøe opfordrer i et debatindlæg til ...  ",
      "text/html": "<div>\n<style scoped>\n    .dataframe tbody tr th:only-of-type {\n        vertical-align: middle;\n    }\n\n    .dataframe tbody tr th {\n        vertical-align: top;\n    }\n\n    .dataframe thead th {\n        text-align: right;\n    }\n</style>\n<table border=\"1\" class=\"dataframe\">\n  <thead>\n    <tr style=\"text-align: right;\">\n      <th></th>\n      <th>title</th>\n      <th>id</th>\n      <th>date</th>\n      <th>context</th>\n    </tr>\n  </thead>\n  <tbody>\n    <tr>\n      <th>0</th>\n      <td>Vedtag ny lovgivning, før der overinvesteres i...</td>\n      <td>1</td>\n      <td>14. juni 2022</td>\n      <td>Artiklen opfordrer til juridisk regulering af ...</td>\n    </tr>\n    <tr>\n      <th>1</th>\n      <td>Lovgivning om kunstig intelligens kræver mere ...</td>\n      <td>2</td>\n      <td>11/07/2022 KL. 10:30</td>\n      <td>Artiklen er en kommentar fra Dan Rose, der dis...</td>\n    </tr>\n    <tr>\n      <th>2</th>\n      <td>Vidensdeling er det bedste våben mod cyberkrim...</td>\n      <td>3</td>\n      <td>28/06/2023 KL. 09:15</td>\n      <td>Morten Gransøe opfordrer i et debatindlæg til ...</td>\n    </tr>\n  </tbody>\n</table>\n</div>"
     },
     "execution_count": 5,
     "metadata": {},
     "output_type": "execute_result"
    }
   ],
   "source": [
    "finans_articles = pd.DataFrame(articles)\n",
    "finans_articles"
   ],
   "metadata": {
    "collapsed": false,
    "ExecuteTime": {
     "end_time": "2023-06-28T20:10:16.305725Z",
     "start_time": "2023-06-28T20:10:16.273774200Z"
    }
   }
  },
  {
   "cell_type": "code",
   "execution_count": 6,
   "outputs": [],
   "source": [
    "from langchain.embeddings.openai import OpenAIEmbeddings\n",
    "\n",
    "embed = OpenAIEmbeddings(\n",
    "    model='text-davinci-003',\n",
    "    openai_api_key=OPENAI_API_KEY\n",
    ")"
   ],
   "metadata": {
    "collapsed": false,
    "ExecuteTime": {
     "end_time": "2023-06-28T20:10:16.492106900Z",
     "start_time": "2023-06-28T20:10:16.311442700Z"
    }
   }
  },
  {
   "cell_type": "code",
   "execution_count": 7,
   "outputs": [],
   "source": [
    "import pinecone\n",
    "\n",
    "index_name = 'langchain-retrieval-agent'\n",
    "pinecone.init(\n",
    "    api_key=PINECONE_API_KEY,\n",
    "    environment=PINECONE_ENVIRONMENT\n",
    ")\n",
    "\n",
    "if index_name not in pinecone.list_indexes():\n",
    "    # we create a new index\n",
    "    pinecone.create_index(\n",
    "        name=index_name,\n",
    "        metric='dotproduct',\n",
    "        dimension=1536  # 1536 dim of text-embedding-ada-002\n",
    "    )"
   ],
   "metadata": {
    "collapsed": false,
    "ExecuteTime": {
     "end_time": "2023-06-28T20:10:18.666114800Z",
     "start_time": "2023-06-28T20:10:16.362559400Z"
    }
   }
  },
  {
   "cell_type": "code",
   "execution_count": 8,
   "outputs": [
    {
     "data": {
      "text/plain": "{'dimension': 1536,\n 'index_fullness': 0.3,\n 'namespaces': {'': {'vector_count': 18894}},\n 'total_vector_count': 18894}"
     },
     "execution_count": 8,
     "metadata": {},
     "output_type": "execute_result"
    }
   ],
   "source": [
    "index = pinecone.GRPCIndex(index_name)\n",
    "index.describe_index_stats()"
   ],
   "metadata": {
    "collapsed": false,
    "ExecuteTime": {
     "end_time": "2023-06-28T20:10:19.597962500Z",
     "start_time": "2023-06-28T20:10:18.675055300Z"
    }
   }
  },
  {
   "cell_type": "code",
   "execution_count": 9,
   "outputs": [
    {
     "data": {
      "text/plain": "  0%|          | 0/1 [00:00<?, ?it/s]",
      "application/vnd.jupyter.widget-view+json": {
       "version_major": 2,
       "version_minor": 0,
       "model_id": "552b5e32471e4b43901c2ade21e54f69"
      }
     },
     "metadata": {},
     "output_type": "display_data"
    }
   ],
   "source": [
    "from tqdm.auto import tqdm\n",
    "from uuid import uuid4\n",
    "\n",
    "batch_size = 100\n",
    "\n",
    "texts = []\n",
    "metadatas = []\n",
    "\n",
    "for i in tqdm(range(0, len(finans_articles), batch_size)):\n",
    "    # get end of batch\n",
    "    i_end = min(len(articles), i+batch_size)\n",
    "    batch = finans_articles.iloc[i:i_end]\n",
    "    # first get metadata fields for this record\n",
    "    metadatas = [{\n",
    "        'title': record['title'],\n",
    "        'text': record['context']\n",
    "    } for j, record in batch.iterrows()]\n",
    "    # get the list of contexts / documents\n",
    "    documents = batch['context']\n",
    "    # create document embeddings\n",
    "    embeds = embed.embed_documents(documents)\n",
    "    # get IDs\n",
    "    ids = batch['id']\n",
    "    # add everything to pinecone\n",
    "    index.upsert(vectors=zip(ids, embeds, metadatas))"
   ],
   "metadata": {
    "collapsed": false,
    "ExecuteTime": {
     "end_time": "2023-06-28T20:10:20.946785700Z",
     "start_time": "2023-06-28T20:10:19.608397600Z"
    }
   }
  },
  {
   "cell_type": "code",
   "execution_count": 10,
   "outputs": [],
   "source": [
    "sys_msg = f\"\"\"You are an assistent helping the company 'Forsikring and Pension'. They need your help preparing for debates. Asides from this follow this: TodBot is a large language model.\n",
    "\n",
    "    TodBot is designed to be able to assist with a wide range of tasks, from answering simple questions to providing in-depth explanations and discussions on a wide range of topics. As a language model, TodBot is able to generate human-like text based on the input it receives, allowing it to engage in natural-sounding conversations and provide responses that are coherent and relevant to the topic at hand.\n",
    "\n",
    "    TodBot is constantly learning and improving, and its capabilities are constantly evolving. It is able to process and understand large amounts of text, and can use this knowledge to provide accurate and informative responses to a wide range of questions. Additionally, TodBot is able to generate its own text based on the input it receives, allowing it to engage in discussions and provide explanations and descriptions on a wide range of topics.\n",
    "\n",
    "    Overall, TodBot is a powerful tool that can help with a wide range of tasks and provide valuable insights and information on a wide range of topics. Whether you need help with a specific question or just want to have a conversation about a particular topic, Assistant is here to assist. Answer the following questions as best you can using your tools. If you cannot find the answer using your tools it is okay to say so. The current year is 2023.\n",
    "\"\"\""
   ],
   "metadata": {
    "collapsed": false,
    "ExecuteTime": {
     "end_time": "2023-06-28T20:10:20.967317Z",
     "start_time": "2023-06-28T20:10:20.950114800Z"
    }
   }
  },
  {
   "cell_type": "code",
   "execution_count": 11,
   "outputs": [
    {
     "name": "stderr",
     "output_type": "stream",
     "text": [
      "C:\\Users\\natas\\AppData\\Local\\Programs\\Python\\Python310\\lib\\site-packages\\langchain\\chains\\llm_math\\base.py:50: UserWarning: Directly instantiating an LLMMathChain with an llm is deprecated. Please instantiate with llm_chain argument or using the from_llm class method.\n",
      "  warnings.warn(\n"
     ]
    }
   ],
   "source": [
    "from langchain.vectorstores import Pinecone\n",
    "text_field = \"text\"\n",
    "# switch back to normal index for langchain\n",
    "index = pinecone.Index(index_name)\n",
    "vectorstore = Pinecone(\n",
    "    index, embed.embed_query, text_field\n",
    ")\n",
    "from langchain.chat_models import ChatOpenAI\n",
    "from langchain.chains.conversation.memory import ConversationBufferWindowMemory\n",
    "from langchain.chains import RetrievalQA\n",
    "from langchain.llms import OpenAI\n",
    "\n",
    "llm = OpenAI(temperature=0, openai_api_key=OPENAI_API_KEY)\n",
    "# conversational memory\n",
    "conversational_memory = ConversationBufferWindowMemory(\n",
    "    memory_key='chat_history',\n",
    "    k=5,\n",
    "    return_messages=True\n",
    ")\n",
    "# retrieval qa chain\n",
    "qa = RetrievalQA.from_chain_type(\n",
    "    llm=llm,\n",
    "    chain_type=\"stuff\",\n",
    "    retriever=vectorstore.as_retriever()\n",
    ")\n",
    "from langchain.agents import Tool\n",
    "from langchain.agents import load_tools\n",
    "from langchain import LLMMathChain, SerpAPIWrapper\n",
    "search = SerpAPIWrapper(serpapi_api_key=SERPAPI_API_KEY)\n",
    "llm_math_chain = LLMMathChain(llm=llm, verbose=True)\n",
    "\n",
    "tools = [\n",
    "    Tool(\n",
    "        name=\"Søg\",\n",
    "        func=search.run,\n",
    "        description=\"Brugbart, når man bliver bedt om at søge efter svar på spørgsmål om aktuelle begivenheder. Bør bruges, når man bliver bedt om begivenheder\"\n",
    "    ),\n",
    "    Tool(\n",
    "        name='finans.dk artikler',\n",
    "        func=qa.run,\n",
    "        description= 'Brug dette værktøj, når du bliver spurgt om artikler på finans.dk. Nyttigt til at læse hele artikler eller til at finde bestemte personers holdninger til emner'\n",
    "    ),\n",
    "    Tool(\n",
    "        func=llm_math_chain.run,\n",
    "        name=\"Lommeregner\",\n",
    "        description=\"Nyttigt når du skal besvare spørgsmål om matematik\"\n",
    "    )\n",
    "]\n",
    "from langchain.agents import initialize_agent\n",
    "agent = initialize_agent(\n",
    "    agent='conversational-react-description',\n",
    "    tools=tools,\n",
    "    llm=llm,\n",
    "    verbose=True,\n",
    "    max_iterations=10,\n",
    "    early_stopping_method='generate',\n",
    "    memory=conversational_memory\n",
    ")\n"
   ],
   "metadata": {
    "collapsed": false,
    "ExecuteTime": {
     "end_time": "2023-06-28T20:10:21.034065300Z",
     "start_time": "2023-06-28T20:10:20.982029500Z"
    }
   }
  },
  {
   "cell_type": "code",
   "execution_count": 12,
   "outputs": [
    {
     "name": "stdout",
     "output_type": "stream",
     "text": [
      "Assistant is a large language model trained by OpenAI.\n",
      "\n",
      "Assistant is designed to be able to assist with a wide range of tasks, from answering simple questions to providing in-depth explanations and discussions on a wide range of topics. As a language model, Assistant is able to generate human-like text based on the input it receives, allowing it to engage in natural-sounding conversations and provide responses that are coherent and relevant to the topic at hand.\n",
      "\n",
      "Assistant is constantly learning and improving, and its capabilities are constantly evolving. It is able to process and understand large amounts of text, and can use this knowledge to provide accurate and informative responses to a wide range of questions. Additionally, Assistant is able to generate its own text based on the input it receives, allowing it to engage in discussions and provide explanations and descriptions on a wide range of topics.\n",
      "\n",
      "Overall, Assistant is a powerful tool that can help with a wide range of tasks and provide valuable insights and information on a wide range of topics. Whether you need help with a specific question or just want to have a conversation about a particular topic, Assistant is here to assist.\n",
      "\n",
      "TOOLS:\n",
      "------\n",
      "\n",
      "Assistant has access to the following tools:\n",
      "\n",
      "> Søg: Brugbart, når man bliver bedt om at søge efter svar på spørgsmål om aktuelle begivenheder. Bør bruges, når man bliver bedt om begivenheder\n",
      "> finans.dk artikler: Brug dette værktøj, når du bliver spurgt om artikler på finans.dk. Nyttigt til at læse hele artikler eller til at finde bestemte personers holdninger til emner\n",
      "> Lommeregner: Nyttigt når du skal besvare spørgsmål om matematik\n",
      "\n",
      "To use a tool, please use the following format:\n",
      "\n",
      "```\n",
      "Thought: Do I need to use a tool? Yes\n",
      "Action: the action to take, should be one of [Søg, finans.dk artikler, Lommeregner]\n",
      "Action Input: the input to the action\n",
      "Observation: the result of the action\n",
      "```\n",
      "\n",
      "When you have a response to say to the Human, or if you do not need to use a tool, you MUST use the format:\n",
      "\n",
      "```\n",
      "Thought: Do I need to use a tool? No\n",
      "AI: [your response here]\n",
      "```\n",
      "\n",
      "Begin!\n",
      "\n",
      "Previous conversation history:\n",
      "{chat_history}\n",
      "\n",
      "New input: {input}\n",
      "{agent_scratchpad}\n"
     ]
    }
   ],
   "source": [
    "print(agent.agent.llm_chain.prompt.template)"
   ],
   "metadata": {
    "collapsed": false,
    "ExecuteTime": {
     "end_time": "2023-06-28T20:10:21.084754200Z",
     "start_time": "2023-06-28T20:10:21.037995700Z"
    }
   }
  },
  {
   "cell_type": "code",
   "execution_count": 13,
   "outputs": [
    {
     "name": "stdout",
     "output_type": "stream",
     "text": [
      "\n",
      "\n",
      "\u001B[1m> Entering new  chain...\u001B[0m\n",
      "\u001B[32;1m\u001B[1;3m\n",
      "Thought: Do I need to use a tool? No\n",
      "AI: Jeg arbejder ikke for nogen. Jeg er et kunstig intelligens system, der er designet til at hjælpe dig med at finde svar på dine spørgsmål.\u001B[0m\n",
      "\n",
      "\u001B[1m> Finished chain.\u001B[0m\n"
     ]
    }
   ],
   "source": [
    "result = agent(\"Hvem arbejder du for?\")"
   ],
   "metadata": {
    "collapsed": false,
    "ExecuteTime": {
     "end_time": "2023-06-28T20:10:28.828707900Z",
     "start_time": "2023-06-28T20:10:21.055122300Z"
    }
   }
  },
  {
   "cell_type": "code",
   "execution_count": 14,
   "outputs": [
    {
     "data": {
      "text/plain": "\" I don't know.\""
     },
     "execution_count": 14,
     "metadata": {},
     "output_type": "execute_result"
    }
   ],
   "source": [
    "qa.run('Dan Roses holdning til EU act?')"
   ],
   "metadata": {
    "collapsed": false,
    "ExecuteTime": {
     "end_time": "2023-06-28T20:10:31.716517600Z",
     "start_time": "2023-06-28T20:10:28.835700800Z"
    }
   }
  }
 ],
 "metadata": {
  "kernelspec": {
   "display_name": "Python 3",
   "language": "python",
   "name": "python3"
  },
  "language_info": {
   "codemirror_mode": {
    "name": "ipython",
    "version": 2
   },
   "file_extension": ".py",
   "mimetype": "text/x-python",
   "name": "python",
   "nbconvert_exporter": "python",
   "pygments_lexer": "ipython2",
   "version": "2.7.6"
  }
 },
 "nbformat": 4,
 "nbformat_minor": 0
}
